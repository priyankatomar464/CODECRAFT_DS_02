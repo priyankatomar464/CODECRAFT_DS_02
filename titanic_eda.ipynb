{
 "cells": [
  {
   "cell_type": "markdown",
   "id": "05c4a209",
   "metadata": {},
   "source": [
    "# CODECRAFT_DS_02: Titanic Dataset - Data Cleaning & EDA\n",
    "This project analyzes the Titanic dataset to explore relationships between features and survival."
   ]
  },
  {
   "cell_type": "code",
   "execution_count": null,
   "id": "e4da81aa",
   "metadata": {},
   "outputs": [],
   "source": [
    "import pandas as pd\n",
    "import numpy as np\n",
    "import matplotlib.pyplot as plt\n",
    "import seaborn as sns\n",
    "\n",
    "# Load the data\n",
    "df = pd.read_csv('train.csv')\n",
    "df.head()"
   ]
  },
  {
   "cell_type": "code",
   "execution_count": null,
   "id": "042187a1",
   "metadata": {},
   "outputs": [],
   "source": [
    "# Checking for missing values\n",
    "df.isnull().sum()\n",
    "\n",
    "# Fill missing 'Age' with median\n",
    "df['Age'].fillna(df['Age'].median(), inplace=True)\n",
    "\n",
    "# Fill 'Embarked' with mode\n",
    "df['Embarked'].fillna(df['Embarked'].mode()[0], inplace=True)\n",
    "\n",
    "# Drop 'Cabin' (too many missing values) and unnecessary columns\n",
    "df.drop(columns=['Cabin', 'Ticket', 'Name'], inplace=True)"
   ]
  },
  {
   "cell_type": "code",
   "execution_count": null,
   "id": "2523f8d1",
   "metadata": {},
   "outputs": [],
   "source": [
    "# Survival count\n",
    "sns.countplot(x='Survived', data=df)\n",
    "plt.title('Survival Count')\n",
    "plt.show()\n",
    "\n",
    "# Survival by gender\n",
    "sns.countplot(x='Sex', hue='Survived', data=df)\n",
    "plt.title('Gender vs Survival')\n",
    "plt.show()\n",
    "\n",
    "# Survival by class\n",
    "sns.countplot(x='Pclass', hue='Survived', data=df)\n",
    "plt.title('Class vs Survival')\n",
    "plt.show()\n",
    "\n",
    "# Age distribution\n",
    "sns.boxplot(x='Survived', y='Age', data=df)\n",
    "plt.title('Age vs Survival')\n",
    "plt.show()"
   ]
  },
  {
   "cell_type": "markdown",
   "id": "a172a575",
   "metadata": {},
   "source": [
    "## 📌 Key Insights\n",
    "- Females had a much higher survival rate than males.\n",
    "- First-class passengers had better survival chances.\n",
    "- Younger passengers were more likely to survive.\n",
    "- Sex, Age, and Pclass are important indicators of survival."
   ]
  }
 ],
 "metadata": {},
 "nbformat": 4,
 "nbformat_minor": 5
}
